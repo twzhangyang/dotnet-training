{
 "cells": [
  {
   "cell_type": "code",
   "execution_count": null,
   "metadata": {
    "dotnet_interactive": {
     "language": "csharp"
    }
   },
   "outputs": [],
   "source": [
    "class Student {\n",
    "  public int StudentID {get;set;}\n",
    "  public string StudentName {get;set; }\n",
    "  public int Age {get;set;}\n",
    "}"
   ]
  },
  {
   "cell_type": "markdown",
   "metadata": {},
   "source": [
    "## OfType"
   ]
  },
  {
   "cell_type": "code",
   "execution_count": null,
   "metadata": {
    "dotnet_interactive": {
     "language": "csharp"
    }
   },
   "outputs": [],
   "source": [
    "IList<Student> studentList = new List<Student>() { \n",
    "  new Student() { StudentID = 1, StudentName = \"John\", Age = 18 } ,\n",
    "  new Student() { StudentID = 2, StudentName = \"Steve\",  Age = 15 } ,\n",
    "  new Student() { StudentID = 3, StudentName = \"Bill\",  Age = 25 } ,\n",
    "  new Student() { StudentID = 4, StudentName = \"Ram\" , Age = 20 } ,\n",
    "  new Student() { StudentID = 5, StudentName = \"Ron\" , Age = 19 } \n",
    "};"
   ]
  },
  {
   "cell_type": "code",
   "execution_count": null,
   "metadata": {
    "dotnet_interactive": {
     "language": "csharp"
    }
   },
   "outputs": [
    {
     "data": {
      "text/html": [
       "<table><thead><tr><th><i>index</i></th><th>StudentID</th><th>StudentName</th><th>Age</th></tr></thead><tbody><tr><td>0</td><td><div class=\"dni-plaintext\">3</div></td><td>Bill</td><td><div class=\"dni-plaintext\">25</div></td></tr><tr><td>1</td><td><div class=\"dni-plaintext\">1</div></td><td>John</td><td><div class=\"dni-plaintext\">18</div></td></tr><tr><td>2</td><td><div class=\"dni-plaintext\">4</div></td><td>Ram</td><td><div class=\"dni-plaintext\">20</div></td></tr><tr><td>3</td><td><div class=\"dni-plaintext\">5</div></td><td>Ron</td><td><div class=\"dni-plaintext\">19</div></td></tr><tr><td>4</td><td><div class=\"dni-plaintext\">2</div></td><td>Steve</td><td><div class=\"dni-plaintext\">15</div></td></tr></tbody></table>"
      ]
     },
     "metadata": {},
     "output_type": "display_data"
    }
   ],
   "source": [
    "var orderByResult = from s in studentList\n",
    "                   orderby s.StudentName \n",
    "                   select s;\n",
    "orderByResult"
   ]
  },
  {
   "cell_type": "code",
   "execution_count": null,
   "metadata": {
    "dotnet_interactive": {
     "language": "csharp"
    }
   },
   "outputs": [],
   "source": [
    "//???"
   ]
  },
  {
   "cell_type": "code",
   "execution_count": null,
   "metadata": {
    "dotnet_interactive": {
     "language": "csharp"
    }
   },
   "outputs": [
    {
     "data": {
      "text/html": [
       "<table><thead><tr><th><i>index</i></th><th>StudentID</th><th>StudentName</th><th>Age</th></tr></thead><tbody><tr><td>0</td><td><div class=\"dni-plaintext\">2</div></td><td>Steve</td><td><div class=\"dni-plaintext\">15</div></td></tr><tr><td>1</td><td><div class=\"dni-plaintext\">5</div></td><td>Ron</td><td><div class=\"dni-plaintext\">19</div></td></tr><tr><td>2</td><td><div class=\"dni-plaintext\">4</div></td><td>Ram</td><td><div class=\"dni-plaintext\">20</div></td></tr><tr><td>3</td><td><div class=\"dni-plaintext\">1</div></td><td>John</td><td><div class=\"dni-plaintext\">18</div></td></tr><tr><td>4</td><td><div class=\"dni-plaintext\">3</div></td><td>Bill</td><td><div class=\"dni-plaintext\">25</div></td></tr></tbody></table>"
      ]
     },
     "metadata": {},
     "output_type": "display_data"
    }
   ],
   "source": [
    "var orderByDescendingResult = from s in studentList\n",
    "                   orderby s.StudentName descending\n",
    "                   select s;\n",
    "orderByDescendingResult"
   ]
  },
  {
   "cell_type": "code",
   "execution_count": null,
   "metadata": {
    "dotnet_interactive": {
     "language": "csharp"
    }
   },
   "outputs": [],
   "source": [
    "//???"
   ]
  },
  {
   "cell_type": "code",
   "execution_count": null,
   "metadata": {
    "dotnet_interactive": {
     "language": "csharp"
    }
   },
   "outputs": [
    {
     "data": {
      "text/html": [
       "<table><thead><tr><th><i>index</i></th><th>StudentName</th><th>Age</th></tr></thead><tbody><tr><td>0</td><td>Bill</td><td><div class=\"dni-plaintext\">25</div></td></tr><tr><td>1</td><td>John</td><td><div class=\"dni-plaintext\">18</div></td></tr><tr><td>2</td><td>Ram</td><td><div class=\"dni-plaintext\">20</div></td></tr><tr><td>3</td><td>Ron</td><td><div class=\"dni-plaintext\">19</div></td></tr><tr><td>4</td><td>Steve</td><td><div class=\"dni-plaintext\">15</div></td></tr></tbody></table>"
      ]
     },
     "metadata": {},
     "output_type": "display_data"
    }
   ],
   "source": [
    "var orderByResult = from s in studentList\n",
    "                   orderby s.StudentName, s.Age \n",
    "                   select new { s.StudentName, s.Age };\n",
    "orderByResult"
   ]
  },
  {
   "cell_type": "code",
   "execution_count": null,
   "metadata": {
    "dotnet_interactive": {
     "language": "csharp"
    }
   },
   "outputs": [],
   "source": [
    "//???"
   ]
  },
  {
   "cell_type": "code",
   "execution_count": null,
   "metadata": {
    "dotnet_interactive": {
     "language": "csharp"
    }
   },
   "outputs": [
    {
     "data": {
      "text/html": [
       "<table><thead><tr><th><i>index</i></th><th>StudentID</th><th>StudentName</th><th>Age</th></tr></thead><tbody><tr><td>0</td><td><div class=\"dni-plaintext\">3</div></td><td>Bill</td><td><div class=\"dni-plaintext\">25</div></td></tr><tr><td>1</td><td><div class=\"dni-plaintext\">1</div></td><td>John</td><td><div class=\"dni-plaintext\">18</div></td></tr><tr><td>2</td><td><div class=\"dni-plaintext\">4</div></td><td>Ram</td><td><div class=\"dni-plaintext\">20</div></td></tr><tr><td>3</td><td><div class=\"dni-plaintext\">5</div></td><td>Ron</td><td><div class=\"dni-plaintext\">19</div></td></tr><tr><td>4</td><td><div class=\"dni-plaintext\">2</div></td><td>Steve</td><td><div class=\"dni-plaintext\">15</div></td></tr></tbody></table>"
      ]
     },
     "metadata": {},
     "output_type": "display_data"
    }
   ],
   "source": [
    "var thenByResult = studentList.OrderBy(s => s.StudentName).ThenBy(s => s.Age);\n",
    "thenByResult"
   ]
  },
  {
   "cell_type": "code",
   "execution_count": null,
   "metadata": {
    "dotnet_interactive": {
     "language": "csharp"
    }
   },
   "outputs": [
    {
     "data": {
      "text/html": [
       "<table><thead><tr><th><i>index</i></th><th>StudentID</th><th>StudentName</th><th>Age</th></tr></thead><tbody><tr><td>0</td><td><div class=\"dni-plaintext\">3</div></td><td>Bill</td><td><div class=\"dni-plaintext\">25</div></td></tr><tr><td>1</td><td><div class=\"dni-plaintext\">1</div></td><td>John</td><td><div class=\"dni-plaintext\">18</div></td></tr><tr><td>2</td><td><div class=\"dni-plaintext\">4</div></td><td>Ram</td><td><div class=\"dni-plaintext\">20</div></td></tr><tr><td>3</td><td><div class=\"dni-plaintext\">5</div></td><td>Ron</td><td><div class=\"dni-plaintext\">19</div></td></tr><tr><td>4</td><td><div class=\"dni-plaintext\">2</div></td><td>Steve</td><td><div class=\"dni-plaintext\">15</div></td></tr></tbody></table>"
      ]
     },
     "metadata": {},
     "output_type": "display_data"
    }
   ],
   "source": [
    "var thenByDescResult = studentList.OrderBy(s => s.StudentName).ThenByDescending(s => s.Age);\n",
    "thenByDescResult"
   ]
  }
 ],
 "metadata": {
  "kernelspec": {
   "display_name": ".NET (C#)",
   "language": "C#",
   "name": ".net-csharp"
  },
  "language_info": {
   "name": "C#"
  }
 },
 "nbformat": 4,
 "nbformat_minor": 2
}
