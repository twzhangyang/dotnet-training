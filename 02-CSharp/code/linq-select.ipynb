{
 "cells": [
  {
   "cell_type": "code",
   "execution_count": null,
   "metadata": {
    "dotnet_interactive": {
     "language": "csharp"
    }
   },
   "outputs": [],
   "source": [
    "public class Student{ \n",
    "    public int StudentID { get; set; }\n",
    "    public string StudentName { get; set; }\n",
    "    public int Age { get; set; }\n",
    "}"
   ]
  },
  {
   "cell_type": "code",
   "execution_count": null,
   "metadata": {
    "dotnet_interactive": {
     "language": "csharp"
    }
   },
   "outputs": [
    {
     "data": {
      "text/html": [
       "<table><thead><tr><th><i>index</i></th><th>value</th></tr></thead><tbody><tr><td>0</td><td>John</td></tr><tr><td>1</td><td>Moin</td></tr><tr><td>2</td><td>Bill</td></tr><tr><td>3</td><td>Ram</td></tr><tr><td>4</td><td>Ron</td></tr></tbody></table>"
      ]
     },
     "metadata": {},
     "output_type": "display_data"
    }
   ],
   "source": [
    "IList<Student> studentList = new List<Student>() { \n",
    "  new Student() { StudentID = 1, StudentName = \"John\" },\n",
    "  new Student() { StudentID = 2, StudentName = \"Moin\" },\n",
    "  new Student() { StudentID = 3, StudentName = \"Bill\" },\n",
    "  new Student() { StudentID = 4, StudentName = \"Ram\" },\n",
    "  new Student() { StudentID = 5, StudentName = \"Ron\" } \n",
    "};\n",
    "\n",
    "var selectResult = from s in studentList\n",
    "                 select s.StudentName;\n",
    "\n",
    "selectResult"
   ]
  },
  {
   "cell_type": "code",
   "execution_count": null,
   "metadata": {
    "dotnet_interactive": {
     "language": "csharp"
    }
   },
   "outputs": [
    {
     "data": {
      "text/html": [
       "<table><thead><tr><th><i>index</i></th><th>Name</th><th>Age</th></tr></thead><tbody><tr><td>0</td><td>Mr. John</td><td><div class=\"dni-plaintext\">0</div></td></tr><tr><td>1</td><td>Mr. Moin</td><td><div class=\"dni-plaintext\">0</div></td></tr><tr><td>2</td><td>Mr. Bill</td><td><div class=\"dni-plaintext\">0</div></td></tr><tr><td>3</td><td>Mr. Ram</td><td><div class=\"dni-plaintext\">0</div></td></tr><tr><td>4</td><td>Mr. Ron</td><td><div class=\"dni-plaintext\">0</div></td></tr></tbody></table>"
      ]
     },
     "metadata": {},
     "output_type": "display_data"
    }
   ],
   "source": [
    "var selectResult = from s in studentList\n",
    "                   select new { Name = \"Mr. \" + s.StudentName, Age = s.Age }; \n",
    "\n",
    "selectResult"
   ]
  },
  {
   "cell_type": "code",
   "execution_count": null,
   "metadata": {
    "dotnet_interactive": {
     "language": "csharp"
    }
   },
   "outputs": [],
   "source": [
    "//???"
   ]
  }
 ],
 "metadata": {
  "kernelspec": {
   "display_name": ".NET (C#)",
   "language": "C#",
   "name": ".net-csharp"
  },
  "language_info": {
   "name": "C#"
  }
 },
 "nbformat": 4,
 "nbformat_minor": 2
}
