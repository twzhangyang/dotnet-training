{
 "cells": [
  {
   "cell_type": "markdown",
   "metadata": {},
   "source": [
    "## Switch expressions"
   ]
  },
  {
   "cell_type": "code",
   "execution_count": null,
   "metadata": {
    "dotnet_interactive": {
     "language": "csharp"
    }
   },
   "outputs": [],
   "source": [
    "public enum Rainbow\n",
    "{\n",
    "    Red,\n",
    "    Orange,\n",
    "    Yellow,\n",
    "    Green,\n",
    "    Blue,\n",
    "    Indigo,\n",
    "    Violet\n",
    "}\n",
    "\n",
    "class RGBColor {\n",
    "    public long R {get; set;}\n",
    "    public long G {get; set;}\n",
    "    public long B {get; set;}\n",
    "    public RGBColor(long r, long g, long b){\n",
    "        this.R = r;\n",
    "        this.G = g;\n",
    "        this.B = b;\n",
    "    }\n",
    "}"
   ]
  },
  {
   "cell_type": "code",
   "execution_count": null,
   "metadata": {
    "dotnet_interactive": {
     "language": "csharp"
    }
   },
   "outputs": [],
   "source": [
    "RGBColor FromRainbow(Rainbow colorBand) =>\n",
    "    colorBand switch\n",
    "    {\n",
    "        Rainbow.Red    => new RGBColor(0xFF, 0x00, 0x00),\n",
    "        Rainbow.Orange => new RGBColor(0xFF, 0x7F, 0x00),\n",
    "        Rainbow.Yellow => new RGBColor(0xFF, 0xFF, 0x00),\n",
    "        Rainbow.Green  => new RGBColor(0x00, 0xFF, 0x00),\n",
    "        Rainbow.Blue   => new RGBColor(0x00, 0x00, 0xFF),\n",
    "        Rainbow.Indigo => new RGBColor(0x4B, 0x00, 0x82),\n",
    "        Rainbow.Violet => new RGBColor(0x94, 0x00, 0xD3),\n",
    "        _              => throw new ArgumentException(message: \"invalid enum value\", paramName: nameof(colorBand)),\n",
    "    };"
   ]
  },
  {
   "cell_type": "code",
   "execution_count": null,
   "metadata": {
    "dotnet_interactive": {
     "language": "csharp"
    }
   },
   "outputs": [],
   "source": [
    "RGBColor FromRainbowClassic(Rainbow colorBand)\n",
    "{\n",
    "    switch (colorBand)\n",
    "    {\n",
    "        case Rainbow.Red:\n",
    "            return new RGBColor(0xFF, 0x00, 0x00);\n",
    "        case Rainbow.Orange:\n",
    "            return new RGBColor(0xFF, 0x7F, 0x00);\n",
    "        case Rainbow.Yellow:\n",
    "            return new RGBColor(0xFF, 0xFF, 0x00);\n",
    "        case Rainbow.Green:\n",
    "            return new RGBColor(0x00, 0xFF, 0x00);\n",
    "        case Rainbow.Blue:\n",
    "            return new RGBColor(0x00, 0x00, 0xFF);\n",
    "        case Rainbow.Indigo:\n",
    "            return new RGBColor(0x4B, 0x00, 0x82);\n",
    "        case Rainbow.Violet:\n",
    "            return new RGBColor(0x94, 0x00, 0xD3);\n",
    "        default:\n",
    "            throw new ArgumentException(message: \"invalid enum value\", paramName: nameof(colorBand));\n",
    "    };\n",
    "}"
   ]
  },
  {
   "cell_type": "markdown",
   "metadata": {},
   "source": [
    "## Tuple patterns"
   ]
  },
  {
   "cell_type": "code",
   "execution_count": null,
   "metadata": {
    "dotnet_interactive": {
     "language": "csharp"
    }
   },
   "outputs": [],
   "source": [
    "string RockPaperScissors(string first, string second)\n",
    "    => (first, second) switch\n",
    "    {\n",
    "        (\"rock\", \"paper\") => \"rock is covered by paper. Paper wins.\",\n",
    "        (\"rock\", \"scissors\") => \"rock breaks scissors. Rock wins.\",\n",
    "        (\"paper\", \"rock\") => \"paper covers rock. Paper wins.\",\n",
    "        (\"paper\", \"scissors\") => \"paper is cut by scissors. Scissors wins.\",\n",
    "        (\"scissors\", \"rock\") => \"scissors is broken by rock. Rock wins.\",\n",
    "        (\"scissors\", \"paper\") => \"scissors cuts paper. Scissors wins.\",\n",
    "        (_, _) => \"tie\"\n",
    "    };"
   ]
  },
  {
   "cell_type": "markdown",
   "metadata": {},
   "source": [
    "## Positional patterns"
   ]
  },
  {
   "cell_type": "code",
   "execution_count": null,
   "metadata": {
    "dotnet_interactive": {
     "language": "csharp"
    }
   },
   "outputs": [],
   "source": [
    "public class Point\n",
    "{\n",
    "    public int X { get; }\n",
    "    public int Y { get; }\n",
    "\n",
    "    public Point(int x, int y) => (X, Y) = (x, y);\n",
    "\n",
    "    public void Deconstruct(out int x, out int y) =>\n",
    "        (x, y) = (X, Y);\n",
    "}"
   ]
  },
  {
   "cell_type": "code",
   "execution_count": null,
   "metadata": {
    "dotnet_interactive": {
     "language": "csharp"
    }
   },
   "outputs": [],
   "source": [
    "public enum Quadrant\n",
    "{\n",
    "    Unknown,\n",
    "    Origin,\n",
    "    One,\n",
    "    Two,\n",
    "    Three,\n",
    "    Four,\n",
    "    OnBorder\n",
    "}"
   ]
  },
  {
   "cell_type": "code",
   "execution_count": null,
   "metadata": {
    "dotnet_interactive": {
     "language": "csharp"
    }
   },
   "outputs": [],
   "source": [
    "Quadrant GetQuadrant(Point point) => point switch\n",
    "{\n",
    "    (0, 0) => Quadrant.Origin,\n",
    "    var (x, y) when x > 0 && y > 0 => Quadrant.One,\n",
    "    var (x, y) when x < 0 && y > 0 => Quadrant.Two,\n",
    "    var (x, y) when x < 0 && y < 0 => Quadrant.Three,\n",
    "    var (x, y) when x > 0 && y < 0 => Quadrant.Four,\n",
    "    var (_, _) => Quadrant.OnBorder,\n",
    "    _ => Quadrant.Unknown\n",
    "};"
   ]
  },
  {
   "cell_type": "markdown",
   "metadata": {},
   "source": [
    "## Property patterns"
   ]
  },
  {
   "cell_type": "code",
   "execution_count": null,
   "metadata": {
    "dotnet_interactive": {
     "language": "csharp"
    }
   },
   "outputs": [],
   "source": [
    "class Address {\n",
    "  public string State {get; set;}\n",
    "}"
   ]
  },
  {
   "cell_type": "code",
   "execution_count": null,
   "metadata": {
    "dotnet_interactive": {
     "language": "csharp"
    }
   },
   "outputs": [],
   "source": [
    "decimal ComputeSalesTax(Address location, decimal salePrice) =>\n",
    "    location switch\n",
    "    {\n",
    "        { State: \"WA\" } => salePrice * 0.06M,\n",
    "        { State: \"MN\" } => salePrice * 0.075M,\n",
    "        { State: \"MI\" } => salePrice * 0.05M,\n",
    "        // other cases removed for brevity...\n",
    "        _ => 0M\n",
    "    };"
   ]
  }
 ],
 "metadata": {
  "kernelspec": {
   "display_name": ".NET (C#)",
   "language": "C#",
   "name": ".net-csharp"
  },
  "language_info": {
   "name": "C#"
  }
 },
 "nbformat": 4,
 "nbformat_minor": 2
}
