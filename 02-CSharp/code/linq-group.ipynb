{
 "cells": [
  {
   "cell_type": "code",
   "execution_count": null,
   "metadata": {
    "dotnet_interactive": {
     "language": "csharp"
    }
   },
   "outputs": [],
   "source": [
    "class Student {\n",
    "  public int StudentID {get;set;}\n",
    "  public string StudentName {get;set; }\n",
    "  public int Age {get;set;}\n",
    "}"
   ]
  },
  {
   "cell_type": "code",
   "execution_count": null,
   "metadata": {
    "dotnet_interactive": {
     "language": "csharp"
    }
   },
   "outputs": [
    {
     "data": {
      "text/html": [
       "<table><thead><tr><th><i>index</i></th><th>value</th></tr></thead><tbody><tr><td>0</td><td><div class=\"dni-plaintext\">[ { Submission#3+Student: StudentID: 1, StudentName: John, Age: 18 }, { Submission#3+Student: StudentID: 3, StudentName: Bill, Age: 18 } ]</div></td></tr><tr><td>1</td><td><div class=\"dni-plaintext\">[ { Submission#3+Student: StudentID: 2, StudentName: Steve, Age: 21 }, { Submission#3+Student: StudentID: 5, StudentName: Abram, Age: 21 } ]</div></td></tr><tr><td>2</td><td><div class=\"dni-plaintext\">[ { Submission#3+Student: StudentID: 4, StudentName: Ram, Age: 20 } ]</div></td></tr></tbody></table>"
      ]
     },
     "metadata": {},
     "output_type": "display_data"
    }
   ],
   "source": [
    "var studentList = new List<Student>() { \n",
    "  new Student() { StudentID = 1, StudentName = \"John\", Age = 18 } ,\n",
    "  new Student() { StudentID = 2, StudentName = \"Steve\",  Age = 21 } ,\n",
    "  new Student() { StudentID = 3, StudentName = \"Bill\",  Age = 18 } ,\n",
    "  new Student() { StudentID = 4, StudentName = \"Ram\" , Age = 20 } ,\n",
    "  new Student() { StudentID = 5, StudentName = \"Abram\" , Age = 21 } \n",
    "};\n",
    "\n",
    "var groupedResult = from s in studentList\n",
    "              group s by s.Age;\n",
    "groupedResult"
   ]
  },
  {
   "cell_type": "code",
   "execution_count": null,
   "metadata": {
    "dotnet_interactive": {
     "language": "csharp"
    }
   },
   "outputs": [
    {
     "name": "stdout",
     "output_type": "stream",
     "text": [
      "Age Group: 18\n",
      "Student Name: John\n",
      "Student Name: Bill\n",
      "Age Group: 21\n",
      "Student Name: Steve\n",
      "Student Name: Abram\n",
      "Age Group: 20\n",
      "Student Name: Ram\n"
     ]
    }
   ],
   "source": [
    "foreach (var ageGroup in groupedResult)\n",
    "{\n",
    "    Console.WriteLine(\"Age Group: {0}\", ageGroup .Key); //Each group has a key \n",
    "             \n",
    "    foreach(Student s in ageGroup) // Each group has inner collection\n",
    "        Console.WriteLine(\"Student Name: {0}\", s.StudentName);\n",
    "}"
   ]
  },
  {
   "cell_type": "code",
   "execution_count": null,
   "metadata": {
    "dotnet_interactive": {
     "language": "csharp"
    }
   },
   "outputs": [
    {
     "data": {
      "text/html": [
       "<table><thead><tr><th><i>index</i></th><th>value</th></tr></thead><tbody><tr><td>0</td><td><div class=\"dni-plaintext\">[ { Submission#3+Student: StudentID: 1, StudentName: John, Age: 18 }, { Submission#3+Student: StudentID: 3, StudentName: Bill, Age: 18 } ]</div></td></tr><tr><td>1</td><td><div class=\"dni-plaintext\">[ { Submission#3+Student: StudentID: 2, StudentName: Steve, Age: 21 }, { Submission#3+Student: StudentID: 5, StudentName: Abram, Age: 21 } ]</div></td></tr><tr><td>2</td><td><div class=\"dni-plaintext\">[ { Submission#3+Student: StudentID: 4, StudentName: Ram, Age: 20 } ]</div></td></tr></tbody></table>"
      ]
     },
     "metadata": {},
     "output_type": "display_data"
    }
   ],
   "source": [
    "var groupedResult = studentList.GroupBy(s => s.Age);\n",
    "groupedResult"
   ]
  },
  {
   "cell_type": "code",
   "execution_count": null,
   "metadata": {
    "dotnet_interactive": {
     "language": "csharp"
    }
   },
   "outputs": [],
   "source": []
  }
 ],
 "metadata": {
  "kernelspec": {
   "display_name": ".NET (C#)",
   "language": "C#",
   "name": ".net-csharp"
  },
  "language_info": {
   "name": "C#"
  }
 },
 "nbformat": 4,
 "nbformat_minor": 2
}
