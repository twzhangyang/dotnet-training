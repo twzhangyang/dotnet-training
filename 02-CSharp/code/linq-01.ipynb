{
 "cells": [
  {
   "cell_type": "code",
   "execution_count": null,
   "metadata": {
    "dotnet_interactive": {
     "language": "csharp"
    }
   },
   "outputs": [],
   "source": [
    "var stringList = new List<string>() { \n",
    "  \"C# Tutorials\",\n",
    "  \"VB.NET Tutorials\",\n",
    "  \"Learn C++\",\n",
    "  \"MVC Tutorials\" ,\n",
    "  \"Java\" \n",
    "};"
   ]
  },
  {
   "cell_type": "code",
   "execution_count": null,
   "metadata": {
    "dotnet_interactive": {
     "language": "csharp"
    }
   },
   "outputs": [
    {
     "data": {
      "text/html": [
       "<table><thead><tr><th><i>index</i></th><th>value</th></tr></thead><tbody><tr><td>0</td><td>C# Tutorials</td></tr><tr><td>1</td><td>VB.NET Tutorials</td></tr><tr><td>2</td><td>MVC Tutorials</td></tr></tbody></table>"
      ]
     },
     "metadata": {},
     "output_type": "display_data"
    }
   ],
   "source": [
    "var result = from s in stringList\n",
    "          where s.Contains(\"Tutorials\") \n",
    "          select s;\n",
    "\n",
    "result"
   ]
  },
  {
   "cell_type": "code",
   "execution_count": null,
   "metadata": {
    "dotnet_interactive": {
     "language": "csharp"
    }
   },
   "outputs": [
    {
     "data": {
      "text/html": [
       "<table><thead><tr><th><i>index</i></th><th>value</th></tr></thead><tbody><tr><td>0</td><td>C# Tutorials</td></tr><tr><td>1</td><td>VB.NET Tutorials</td></tr><tr><td>2</td><td>MVC Tutorials</td></tr></tbody></table>"
      ]
     },
     "metadata": {},
     "output_type": "display_data"
    }
   ],
   "source": [
    "var result = stringList.Where(s => s.Contains(\"Tutorials\"));\n",
    "result"
   ]
  },
  {
   "cell_type": "code",
   "execution_count": null,
   "metadata": {
    "dotnet_interactive": {
     "language": "csharp"
    }
   },
   "outputs": [],
   "source": [
    "class Student {\n",
    "  public int StudentID {get;set;}\n",
    "  public string StudentName {get;set; }\n",
    "  public int Age {get;set;}\n",
    "}"
   ]
  },
  {
   "cell_type": "code",
   "execution_count": null,
   "metadata": {
    "dotnet_interactive": {
     "language": "csharp"
    }
   },
   "outputs": [
    {
     "data": {
      "text/html": [
       "<table><thead><tr><th><i>index</i></th><th>StudentID</th><th>StudentName</th><th>Age</th></tr></thead><tbody><tr><td>0</td><td><div class=\"dni-plaintext\">1</div></td><td>John</td><td><div class=\"dni-plaintext\">13</div></td></tr><tr><td>1</td><td><div class=\"dni-plaintext\">2</div></td><td>Moin</td><td><div class=\"dni-plaintext\">21</div></td></tr><tr><td>2</td><td><div class=\"dni-plaintext\">3</div></td><td>Bill</td><td><div class=\"dni-plaintext\">18</div></td></tr><tr><td>3</td><td><div class=\"dni-plaintext\">4</div></td><td>Ram</td><td><div class=\"dni-plaintext\">20</div></td></tr><tr><td>4</td><td><div class=\"dni-plaintext\">5</div></td><td>Ron</td><td><div class=\"dni-plaintext\">15</div></td></tr></tbody></table>"
      ]
     },
     "metadata": {},
     "output_type": "display_data"
    }
   ],
   "source": [
    "var studentList = new List<Student>() { \n",
    "  new Student() { StudentID = 1, StudentName = \"John\", Age = 13} ,\n",
    "  new Student() { StudentID = 2, StudentName = \"Moin\",  Age = 21 } ,\n",
    "  new Student() { StudentID = 3, StudentName = \"Bill\",  Age = 18 } ,\n",
    "  new Student() { StudentID = 4, StudentName = \"Ram\" , Age = 20} ,\n",
    "  new Student() { StudentID = 5, StudentName = \"Ron\" , Age = 15 } \n",
    "};\n",
    "studentList"
   ]
  },
  {
   "cell_type": "code",
   "execution_count": null,
   "metadata": {
    "dotnet_interactive": {
     "language": "csharp"
    }
   },
   "outputs": [
    {
     "data": {
      "text/html": [
       "<table><thead><tr><th><i>index</i></th><th>StudentID</th><th>StudentName</th><th>Age</th></tr></thead><tbody><tr><td>0</td><td><div class=\"dni-plaintext\">1</div></td><td>John</td><td><div class=\"dni-plaintext\">13</div></td></tr><tr><td>1</td><td><div class=\"dni-plaintext\">3</div></td><td>Bill</td><td><div class=\"dni-plaintext\">18</div></td></tr><tr><td>2</td><td><div class=\"dni-plaintext\">5</div></td><td>Ron</td><td><div class=\"dni-plaintext\">15</div></td></tr></tbody></table>"
      ]
     },
     "metadata": {},
     "output_type": "display_data"
    }
   ],
   "source": [
    "var teenAgerStudents = from s in studentList\n",
    "                      where s.Age > 12 && s.Age < 20\n",
    "                      select s;\n",
    "teenAgerStudents"
   ]
  },
  {
   "cell_type": "code",
   "execution_count": null,
   "metadata": {
    "dotnet_interactive": {
     "language": "csharp"
    }
   },
   "outputs": [
    {
     "data": {
      "text/html": [
       "<table><thead><tr><th><i>index</i></th><th>StudentID</th><th>StudentName</th><th>Age</th></tr></thead><tbody><tr><td>0</td><td><div class=\"dni-plaintext\">1</div></td><td>John</td><td><div class=\"dni-plaintext\">13</div></td></tr><tr><td>1</td><td><div class=\"dni-plaintext\">3</div></td><td>Bill</td><td><div class=\"dni-plaintext\">18</div></td></tr><tr><td>2</td><td><div class=\"dni-plaintext\">5</div></td><td>Ron</td><td><div class=\"dni-plaintext\">15</div></td></tr></tbody></table>"
      ]
     },
     "metadata": {},
     "output_type": "display_data"
    }
   ],
   "source": [
    "var teenAgerStudents = studentList.Where(s => s.Age > 12 && s.Age < 20)\n",
    "                                  .ToList<Student>();\n",
    "teenAgerStudents"
   ]
  },
  {
   "cell_type": "code",
   "execution_count": null,
   "metadata": {
    "dotnet_interactive": {
     "language": "csharp"
    }
   },
   "outputs": [
    {
     "data": {
      "text/html": [
       "<table><thead><tr><th><i>index</i></th><th>value</th></tr></thead><tbody><tr><td>0</td><td><div class=\"dni-plaintext\">1</div></td></tr><tr><td>1</td><td><div class=\"dni-plaintext\">3</div></td></tr><tr><td>2</td><td><div class=\"dni-plaintext\">5</div></td></tr></tbody></table>"
      ]
     },
     "metadata": {},
     "output_type": "display_data"
    }
   ],
   "source": [
    "var teenAgerStudentID = from s in studentList\n",
    "                      where s.Age > 12 && s.Age < 20\n",
    "                      select s.StudentID;\n",
    "teenAgerStudentID"
   ]
  },
  {
   "cell_type": "code",
   "execution_count": null,
   "metadata": {
    "dotnet_interactive": {
     "language": "csharp"
    }
   },
   "outputs": [
    {
     "data": {
      "text/html": [
       "<table><thead><tr><th><i>index</i></th><th>value</th></tr></thead><tbody><tr><td>0</td><td><div class=\"dni-plaintext\">1</div></td></tr><tr><td>1</td><td><div class=\"dni-plaintext\">3</div></td></tr><tr><td>2</td><td><div class=\"dni-plaintext\">5</div></td></tr></tbody></table>"
      ]
     },
     "metadata": {},
     "output_type": "display_data"
    }
   ],
   "source": [
    "var teenAgerStudentsID = studentList.Where(s => s.Age > 12 && s.Age < 20)\n",
    "                                  .Select(x => x.StudentID)\n",
    "                                  .ToList();\n",
    "teenAgerStudentsID"
   ]
  },
  {
   "cell_type": "code",
   "execution_count": null,
   "metadata": {
    "dotnet_interactive": {
     "language": "csharp"
    }
   },
   "outputs": [],
   "source": [
    "Func<Student, bool> isStudentTeenAger = s => s.Age > 12 && s.Age < 20;\n",
    "Func<Student, int> getStudentId = s => s.StudentID;"
   ]
  },
  {
   "cell_type": "code",
   "execution_count": null,
   "metadata": {
    "dotnet_interactive": {
     "language": "csharp"
    }
   },
   "outputs": [
    {
     "data": {
      "text/html": [
       "<table><thead><tr><th><i>index</i></th><th>value</th></tr></thead><tbody><tr><td>0</td><td><div class=\"dni-plaintext\">1</div></td></tr><tr><td>1</td><td><div class=\"dni-plaintext\">3</div></td></tr><tr><td>2</td><td><div class=\"dni-plaintext\">5</div></td></tr></tbody></table>"
      ]
     },
     "metadata": {},
     "output_type": "display_data"
    }
   ],
   "source": [
    "var teenAgerStudentsID = studentList.Where(isStudentTeenAger)\n",
    "                                  .Select(getStudentId)\n",
    "                                  .ToList();\n",
    "teenAgerStudentsID"
   ]
  }
 ],
 "metadata": {
  "kernelspec": {
   "display_name": ".NET (C#)",
   "language": "C#",
   "name": ".net-csharp"
  },
  "language_info": {
   "name": "C#"
  }
 },
 "nbformat": 4,
 "nbformat_minor": 2
}
