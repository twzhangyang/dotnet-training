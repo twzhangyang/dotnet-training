{
 "cells": [
  {
   "cell_type": "code",
   "execution_count": null,
   "metadata": {
    "dotnet_interactive": {
     "language": "csharp"
    }
   },
   "outputs": [],
   "source": [
    "public class Cat\n",
    "{\n",
    "    public int Age { get; set; }\n",
    "    public string Name { get; set; }\n",
    "\n",
    "    public Cat()\n",
    "    {\n",
    "    }\n",
    "\n",
    "    public Cat(string name)\n",
    "    {\n",
    "        this.Name = name;\n",
    "    }\n",
    "}"
   ]
  },
  {
   "cell_type": "code",
   "execution_count": null,
   "metadata": {
    "dotnet_interactive": {
     "language": "csharp"
    }
   },
   "outputs": [],
   "source": [
    "var cat = new Cat { Age = 10, Name = \"Fluffy\" };\n",
    "var sameCat = new Cat(\"Fluffy\") { Age = 10 };"
   ]
  },
  {
   "cell_type": "markdown",
   "metadata": {},
   "source": [
    "## Object Initializers with anonymous types"
   ]
  },
  {
   "cell_type": "code",
   "execution_count": null,
   "metadata": {
    "dotnet_interactive": {
     "language": "csharp"
    }
   },
   "outputs": [
    {
     "data": {
      "text/html": [
       "<table><thead><tr><th>Age</th><th>Name</th></tr></thead><tbody><tr><td><div class=\"dni-plaintext\">10</div></td><td><div class=\"dni-plaintext\">Fluffy</div></td></tr></tbody></table>"
      ]
     },
     "metadata": {},
     "output_type": "display_data"
    }
   ],
   "source": [
    "var pet = new { Age = 10, Name = \"Fluffy\" }; \n",
    "pet "
   ]
  },
  {
   "cell_type": "markdown",
   "metadata": {},
   "source": [
    "## Collection initializers"
   ]
  },
  {
   "cell_type": "code",
   "execution_count": null,
   "metadata": {
    "dotnet_interactive": {
     "language": "csharp"
    }
   },
   "outputs": [],
   "source": [
    "public class Cat\n",
    "{\n",
    "    public int Age { get; set; }\n",
    "    public string Name { get; set; }\n",
    "\n",
    "    public Cat() { }\n",
    "\n",
    "    public Cat(string name)\n",
    "    {\n",
    "        Name = name;\n",
    "    }\n",
    "}"
   ]
  },
  {
   "cell_type": "code",
   "execution_count": null,
   "metadata": {
    "dotnet_interactive": {
     "language": "csharp"
    }
   },
   "outputs": [
    {
     "data": {
      "text/html": [
       "<table><thead><tr><th><i>index</i></th><th>Age</th><th>Name</th></tr></thead><tbody><tr><td>0</td><td><div class=\"dni-plaintext\">8</div></td><td>Sylvester</td></tr><tr><td>1</td><td><div class=\"dni-plaintext\">2</div></td><td>Whiskers</td></tr><tr><td>2</td><td><div class=\"dni-plaintext\">14</div></td><td>Sasha</td></tr></tbody></table>"
      ]
     },
     "metadata": {},
     "output_type": "display_data"
    }
   ],
   "source": [
    "var cats = new List<Cat>\n",
    "{\n",
    "    new Cat { Name = \"Sylvester\", Age = 8 },\n",
    "    new Cat { Name = \"Whiskers\", Age = 2 },\n",
    "    new Cat { Name = \"Sasha\", Age = 14 }\n",
    "};\n",
    "cats"
   ]
  }
 ],
 "metadata": {
  "kernelspec": {
   "display_name": ".NET (C#)",
   "language": "C#",
   "name": ".net-csharp"
  },
  "language_info": {
   "name": "C#"
  }
 },
 "nbformat": 4,
 "nbformat_minor": 2
}
