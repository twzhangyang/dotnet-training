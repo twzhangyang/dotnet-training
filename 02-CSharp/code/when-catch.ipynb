{
 "cells": [
  {
   "cell_type": "code",
   "execution_count": null,
   "metadata": {
    "dotnet_interactive": {
     "language": "csharp"
    }
   },
   "outputs": [],
   "source": [
    "using System.Net.Http;"
   ]
  },
  {
   "cell_type": "code",
   "execution_count": null,
   "metadata": {
    "dotnet_interactive": {
     "language": "csharp"
    }
   },
   "outputs": [],
   "source": [
    "public async Task<string> MakeRequest()\n",
    "{\n",
    "    var client = new HttpClient();\n",
    "    var streamTask = client.GetStringAsync(\"https://localHost:10000\");\n",
    "    try\n",
    "    {\n",
    "        var responseText = await streamTask;\n",
    "        return responseText;\n",
    "    }\n",
    "    catch (HttpRequestException e) when (e.Message.Contains(\"301\"))\n",
    "    {\n",
    "        return \"Site Moved\";\n",
    "    }\n",
    "    catch (HttpRequestException e) when (e.Message.Contains(\"404\"))\n",
    "    {\n",
    "        return \"Page Not Found\";\n",
    "    }\n",
    "    catch (HttpRequestException e)\n",
    "    {\n",
    "        return e.Message;\n",
    "    }\n",
    "}"
   ]
  },
  {
   "cell_type": "code",
   "execution_count": null,
   "metadata": {
    "dotnet_interactive": {
     "language": "csharp"
    }
   },
   "outputs": [
    {
     "data": {
      "text/plain": [
       "Connection refused (localhost:10000)"
      ]
     },
     "metadata": {},
     "output_type": "display_data"
    }
   ],
   "source": [
    "var a = await MakeRequest();\n",
    "a"
   ]
  }
 ],
 "metadata": {
  "kernelspec": {
   "display_name": ".NET (C#)",
   "language": "C#",
   "name": ".net-csharp"
  },
  "language_info": {
   "name": "C#"
  }
 },
 "nbformat": 4,
 "nbformat_minor": 2
}
