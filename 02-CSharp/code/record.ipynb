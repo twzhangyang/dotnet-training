{
 "cells": [
  {
   "cell_type": "code",
   "execution_count": null,
   "metadata": {
    "dotnet_interactive": {
     "language": "csharp"
    }
   },
   "outputs": [],
   "source": [
    "public record Person(string FirstName, string LastName, string[] PhoneNumbers);"
   ]
  },
  {
   "cell_type": "code",
   "execution_count": null,
   "metadata": {
    "dotnet_interactive": {
     "language": "csharp"
    }
   },
   "outputs": [],
   "source": [
    "public readonly record struct Point(double X, double Y, double Z);"
   ]
  },
  {
   "cell_type": "code",
   "execution_count": null,
   "metadata": {
    "dotnet_interactive": {
     "language": "csharp"
    }
   },
   "outputs": [
    {
     "data": {
      "text/html": [
       "<table><thead><tr><th>FirstName</th><th>LastName</th><th>PhoneNumbers</th></tr></thead><tbody><tr><td><div class=\"dni-plaintext\">Nancy</div></td><td><div class=\"dni-plaintext\">Davolio</div></td><td><div class=\"dni-plaintext\">[ 555-1234 ]</div></td></tr></tbody></table>"
      ]
     },
     "metadata": {},
     "output_type": "display_data"
    }
   ],
   "source": [
    "Person person = new(\"Nancy\", \"Davolio\", new string[1] { \"555-1234\" });\n",
    "person"
   ]
  },
  {
   "cell_type": "code",
   "execution_count": null,
   "metadata": {
    "dotnet_interactive": {
     "language": "csharp"
    }
   },
   "outputs": [
    {
     "data": {
      "text/html": [
       "<table><thead><tr><th>FirstName</th><th>LastName</th><th>PhoneNumbers</th></tr></thead><tbody><tr><td><div class=\"dni-plaintext\">Nancy</div></td><td><div class=\"dni-plaintext\">Davolio</div></td><td><div class=\"dni-plaintext\">[ 555-6789 ]</div></td></tr></tbody></table>"
      ]
     },
     "metadata": {},
     "output_type": "display_data"
    }
   ],
   "source": [
    "person.PhoneNumbers[0] = \"555-6789\";\n",
    "person"
   ]
  }
 ],
 "metadata": {
  "kernelspec": {
   "display_name": ".NET (C#)",
   "language": "C#",
   "name": ".net-csharp"
  },
  "language_info": {
   "name": "C#"
  }
 },
 "nbformat": 4,
 "nbformat_minor": 2
}
