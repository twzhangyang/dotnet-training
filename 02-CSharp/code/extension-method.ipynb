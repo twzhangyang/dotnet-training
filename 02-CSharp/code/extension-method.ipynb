{
 "cells": [
  {
   "cell_type": "markdown",
   "metadata": {},
   "source": [
    "## Example 1 - extend method on String"
   ]
  },
  {
   "cell_type": "code",
   "execution_count": null,
   "metadata": {
    "dotnet_interactive": {
     "language": "csharp"
    }
   },
   "outputs": [],
   "source": [
    "public static int WordCount(this String str)\n",
    "{\n",
    "    return str.Split(new char[] { ' ', '.', '?' },\n",
    "                      StringSplitOptions.RemoveEmptyEntries).Length;\n",
    "}"
   ]
  },
  {
   "cell_type": "code",
   "execution_count": null,
   "metadata": {
    "dotnet_interactive": {
     "language": "csharp"
    }
   },
   "outputs": [
    {
     "data": {
      "text/html": [
       "<div class=\"dni-plaintext\">3</div>"
      ]
     },
     "metadata": {},
     "output_type": "display_data"
    }
   ],
   "source": [
    "string s = \"Hello Extension Methods\";\n",
    "int i = s.WordCount();\n",
    "i"
   ]
  },
  {
   "cell_type": "markdown",
   "metadata": {},
   "source": [
    "## Example 2 - extend method on Interface"
   ]
  },
  {
   "cell_type": "code",
   "execution_count": null,
   "metadata": {
    "dotnet_interactive": {
     "language": "csharp"
    }
   },
   "outputs": [],
   "source": [
    "public interface IMyInterface\n",
    "{\n",
    "  void MethodB();\n",
    "}"
   ]
  },
  {
   "cell_type": "code",
   "execution_count": null,
   "metadata": {
    "dotnet_interactive": {
     "language": "csharp"
    }
   },
   "outputs": [],
   "source": [
    "public static void MethodA(this IMyInterface myInterface, int i)\n",
    "{\n",
    "    Console.WriteLine\n",
    "        (\"Extension.MethodA(this IMyInterface myInterface, int i)\");\n",
    "}\n",
    "\n",
    "public static void MethodA(this IMyInterface myInterface, string s)\n",
    "{\n",
    "    Console.WriteLine\n",
    "        (\"Extension.MethodA(this IMyInterface myInterface, string s)\");\n",
    "}"
   ]
  },
  {
   "cell_type": "code",
   "execution_count": null,
   "metadata": {
    "dotnet_interactive": {
     "language": "csharp"
    }
   },
   "outputs": [],
   "source": [
    "class A : IMyInterface\n",
    "{\n",
    "    public void MethodB() { Console.WriteLine(\"A.MethodB()\"); }\n",
    "}"
   ]
  },
  {
   "cell_type": "code",
   "execution_count": null,
   "metadata": {},
   "outputs": [
    {
     "name": "stdout",
     "output_type": "stream",
     "text": [
      "Extension.MethodA(this IMyInterface myInterface, int i)\n",
      "Extension.MethodA(this IMyInterface myInterface, string s)\n",
      "A.MethodB()\n"
     ]
    }
   ],
   "source": [
    "A a = new A();\n",
    "\n",
    "a.MethodA(1);           // Extension.MethodA(IMyInterface, int)\n",
    "a.MethodA(\"hello\");     // Extension.MethodA(IMyInterface, string)\n",
    "a.MethodB();         "
   ]
  }
 ],
 "metadata": {
  "kernelspec": {
   "display_name": ".NET (C#)",
   "language": "C#",
   "name": ".net-csharp"
  },
  "language_info": {
   "name": "C#"
  }
 },
 "nbformat": 4,
 "nbformat_minor": 2
}
