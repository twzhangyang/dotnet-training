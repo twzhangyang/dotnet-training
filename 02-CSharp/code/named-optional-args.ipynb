{
 "cells": [
  {
   "cell_type": "code",
   "execution_count": null,
   "metadata": {
    "dotnet_interactive": {
     "language": "csharp"
    }
   },
   "outputs": [],
   "source": [
    "void PrintOrderDetails(string sellerName, int orderNum, string productName)\n",
    "{\n",
    "    if (string.IsNullOrWhiteSpace(sellerName))\n",
    "    {\n",
    "        throw new ArgumentException(message: \"Seller name cannot be null or empty.\", paramName: nameof(sellerName));\n",
    "    }\n",
    "\n",
    "    Console.WriteLine($\"Seller: {sellerName}, Order #: {orderNum}, Product: {productName}\");\n",
    "}"
   ]
  },
  {
   "cell_type": "code",
   "execution_count": null,
   "metadata": {
    "dotnet_interactive": {
     "language": "csharp"
    }
   },
   "outputs": [
    {
     "name": "stdout",
     "output_type": "stream",
     "text": [
      "Seller: Gift Shop, Order #: 31, Product: Red Mug\n"
     ]
    }
   ],
   "source": [
    "PrintOrderDetails(orderNum: 31, productName: \"Red Mug\", sellerName: \"Gift Shop\");"
   ]
  },
  {
   "cell_type": "code",
   "execution_count": null,
   "metadata": {
    "dotnet_interactive": {
     "language": "csharp"
    }
   },
   "outputs": [
    {
     "name": "stdout",
     "output_type": "stream",
     "text": [
      "Seller: Gift Shop, Order #: 31, Product: Red Mug\n"
     ]
    }
   ],
   "source": [
    "PrintOrderDetails(productName: \"Red Mug\", sellerName: \"Gift Shop\", orderNum: 31);"
   ]
  },
  {
   "cell_type": "code",
   "execution_count": null,
   "metadata": {
    "dotnet_interactive": {
     "language": "csharp"
    }
   },
   "outputs": [
    {
     "name": "stdout",
     "output_type": "stream",
     "text": [
      "Seller: Gift Shop, Order #: 31, Product: Red Mug\n"
     ]
    }
   ],
   "source": [
    "PrintOrderDetails(\"Gift Shop\", 31, \"Red Mug\");"
   ]
  },
  {
   "cell_type": "markdown",
   "metadata": {},
   "source": [
    "## Optional arguments"
   ]
  },
  {
   "cell_type": "code",
   "execution_count": null,
   "metadata": {
    "dotnet_interactive": {
     "language": "csharp"
    }
   },
   "outputs": [],
   "source": [
    "public void ExampleMethod(int required, string optionalstr = \"default string\",\n",
    "            int optionalint = 10)\n",
    "{\n",
    "    Console.WriteLine(\n",
    "        $\"required: {required}, optioanl: {optionalstr}, and {optionalint}.\");\n",
    "}"
   ]
  },
  {
   "cell_type": "code",
   "execution_count": null,
   "metadata": {
    "dotnet_interactive": {
     "language": "csharp"
    }
   },
   "outputs": [
    {
     "name": "stdout",
     "output_type": "stream",
     "text": [
      "required: 1, optioanl: One, and 1.\n"
     ]
    }
   ],
   "source": [
    "ExampleMethod(1, \"One\", 1);"
   ]
  },
  {
   "cell_type": "code",
   "execution_count": null,
   "metadata": {
    "dotnet_interactive": {
     "language": "csharp"
    }
   },
   "outputs": [
    {
     "name": "stdout",
     "output_type": "stream",
     "text": [
      "required: 2, optioanl: Two, and 10.\n"
     ]
    }
   ],
   "source": [
    "ExampleMethod(2, \"Two\");"
   ]
  },
  {
   "cell_type": "code",
   "execution_count": null,
   "metadata": {
    "dotnet_interactive": {
     "language": "csharp"
    }
   },
   "outputs": [
    {
     "name": "stdout",
     "output_type": "stream",
     "text": [
      "required: 3, optioanl: default string, and 10.\n"
     ]
    }
   ],
   "source": [
    "ExampleMethod(3);"
   ]
  }
 ],
 "metadata": {
  "kernelspec": {
   "display_name": ".NET (C#)",
   "language": "C#",
   "name": ".net-csharp"
  },
  "language_info": {
   "name": "C#"
  }
 },
 "nbformat": 4,
 "nbformat_minor": 2
}
