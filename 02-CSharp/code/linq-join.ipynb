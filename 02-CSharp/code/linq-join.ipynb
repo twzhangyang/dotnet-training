{
 "cells": [
  {
   "cell_type": "markdown",
   "metadata": {},
   "source": [
    "## Join"
   ]
  },
  {
   "cell_type": "code",
   "execution_count": null,
   "metadata": {
    "dotnet_interactive": {
     "language": "csharp"
    }
   },
   "outputs": [],
   "source": [
    "public class Student{ \n",
    "    public int StudentID { get; set; }\n",
    "    public string StudentName { get; set; }\n",
    "    public int StandardID { get; set; }\n",
    "}\n",
    "\n",
    "public class Standard{ \n",
    "    public int StandardID { get; set; }\n",
    "    public string StandardName { get; set; }\n",
    "}"
   ]
  },
  {
   "cell_type": "code",
   "execution_count": null,
   "metadata": {
    "dotnet_interactive": {
     "language": "csharp"
    }
   },
   "outputs": [],
   "source": [
    "IList<Student> studentList = new List<Student>() { \n",
    "  new Student() { StudentID = 1, StudentName = \"John\", StandardID =1 },\n",
    "  new Student() { StudentID = 2, StudentName = \"Moin\", StandardID =1 },\n",
    "  new Student() { StudentID = 3, StudentName = \"Bill\", StandardID =2 },\n",
    "  new Student() { StudentID = 4, StudentName = \"Ram\" , StandardID =2 },\n",
    "  new Student() { StudentID = 5, StudentName = \"Ron\"  } \n",
    "};\n",
    "\n",
    "IList<Standard> standardList = new List<Standard>() { \n",
    "  new Standard(){ StandardID = 1, StandardName=\"Standard 1\"},\n",
    "  new Standard(){ StandardID = 2, StandardName=\"Standard 2\"},\n",
    "  new Standard(){ StandardID = 3, StandardName=\"Standard 3\"}\n",
    "};"
   ]
  },
  {
   "cell_type": "code",
   "execution_count": null,
   "metadata": {
    "dotnet_interactive": {
     "language": "csharp"
    }
   },
   "outputs": [
    {
     "data": {
      "text/html": [
       "<table><thead><tr><th><i>index</i></th><th>StudentName</th><th>StandardName</th></tr></thead><tbody><tr><td>0</td><td>John</td><td>Standard 1</td></tr><tr><td>1</td><td>Moin</td><td>Standard 1</td></tr><tr><td>2</td><td>Bill</td><td>Standard 2</td></tr><tr><td>3</td><td>Ram</td><td>Standard 2</td></tr></tbody></table>"
      ]
     },
     "metadata": {},
     "output_type": "display_data"
    }
   ],
   "source": [
    "var innerJoin = studentList.Join(// outer sequence \n",
    "  standardList,  // inner sequence \n",
    "  student => student.StandardID,    // outerKeySelector\n",
    "  standard => standard.StandardID,  // innerKeySelector\n",
    "  (student, standard) => new  // result selector\n",
    "                {\n",
    "                    StudentName = student.StudentName,\n",
    "                    StandardName = standard.StandardName\n",
    "                });\n",
    "\n",
    "innerJoin"
   ]
  },
  {
   "cell_type": "code",
   "execution_count": null,
   "metadata": {
    "dotnet_interactive": {
     "language": "csharp"
    }
   },
   "outputs": [
    {
     "data": {
      "text/html": [
       "<table><thead><tr><th><i>index</i></th><th>StudentName</th><th>StandardName</th></tr></thead><tbody><tr><td>0</td><td>John</td><td>Standard 1</td></tr><tr><td>1</td><td>Moin</td><td>Standard 1</td></tr><tr><td>2</td><td>Bill</td><td>Standard 2</td></tr><tr><td>3</td><td>Ram</td><td>Standard 2</td></tr></tbody></table>"
      ]
     },
     "metadata": {},
     "output_type": "display_data"
    }
   ],
   "source": [
    "var innerJoin = from s in studentList // outer sequence\n",
    "                      join st in standardList //inner sequence \n",
    "                      on s.StandardID equals st.StandardID // key selector \n",
    "                      select new { // result selector \n",
    "                                    StudentName = s.StudentName, \n",
    "                                    StandardName = st.StandardName \n",
    "                                };\n",
    "innerJoin"
   ]
  },
  {
   "cell_type": "markdown",
   "metadata": {},
   "source": [
    "## GroupJoin"
   ]
  },
  {
   "cell_type": "code",
   "execution_count": null,
   "metadata": {
    "dotnet_interactive": {
     "language": "csharp"
    }
   },
   "outputs": [
    {
     "data": {
      "text/html": [
       "<table><thead><tr><th><i>index</i></th><th>Students</th><th>StandarFulldName</th></tr></thead><tbody><tr><td>0</td><td><div class=\"dni-plaintext\">[ { Submission#3+Student: StudentID: 1, StudentName: John, StandardID: 1 }, { Submission#3+Student: StudentID: 2, StudentName: Moin, StandardID: 1 } ]</div></td><td>Standard 1</td></tr><tr><td>1</td><td><div class=\"dni-plaintext\">[ { Submission#3+Student: StudentID: 3, StudentName: Bill, StandardID: 2 }, { Submission#3+Student: StudentID: 4, StudentName: Ram, StandardID: 2 } ]</div></td><td>Standard 2</td></tr><tr><td>2</td><td></td><td>Standard 3</td></tr></tbody></table>"
      ]
     },
     "metadata": {},
     "output_type": "display_data"
    }
   ],
   "source": [
    "var groupJoin = standardList.GroupJoin(studentList,  //inner sequence\n",
    "  std => std.StandardID, //outerKeySelector \n",
    "  s => s.StandardID,     //innerKeySelector\n",
    "  (std, studentsGroup) => new // resultSelector \n",
    "  {\n",
    "      Students = studentsGroup,\n",
    "      StandarFulldName = std.StandardName\n",
    "  });\n",
    "\n",
    "groupJoin"
   ]
  },
  {
   "cell_type": "code",
   "execution_count": null,
   "metadata": {
    "dotnet_interactive": {
     "language": "csharp"
    }
   },
   "outputs": [
    {
     "data": {
      "text/html": [
       "<table><thead><tr><th><i>index</i></th><th>Students</th><th>StandardName</th></tr></thead><tbody><tr><td>0</td><td><div class=\"dni-plaintext\">[ { Submission#3+Student: StudentID: 1, StudentName: John, StandardID: 1 }, { Submission#3+Student: StudentID: 2, StudentName: Moin, StandardID: 1 } ]</div></td><td>Standard 1</td></tr><tr><td>1</td><td><div class=\"dni-plaintext\">[ { Submission#3+Student: StudentID: 3, StudentName: Bill, StandardID: 2 }, { Submission#3+Student: StudentID: 4, StudentName: Ram, StandardID: 2 } ]</div></td><td>Standard 2</td></tr><tr><td>2</td><td></td><td>Standard 3</td></tr></tbody></table>"
      ]
     },
     "metadata": {},
     "output_type": "display_data"
    }
   ],
   "source": [
    "var groupJoin = from std in standardList \n",
    "                    join s in studentList \n",
    "                    on std.StandardID equals s.StandardID\n",
    "                    into studentGroup\n",
    "                    select new { \n",
    "                              Students = studentGroup , \n",
    "                              StandardName = std.StandardName \n",
    "                          };\n",
    "groupJoin"
   ]
  }
 ],
 "metadata": {
  "kernelspec": {
   "display_name": ".NET (C#)",
   "language": "C#",
   "name": ".net-csharp"
  },
  "language_info": {
   "name": "C#"
  }
 },
 "nbformat": 4,
 "nbformat_minor": 2
}
