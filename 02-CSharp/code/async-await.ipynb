{
 "cells": [
  {
   "cell_type": "code",
   "execution_count": null,
   "metadata": {
    "dotnet_interactive": {
     "language": "csharp"
    }
   },
   "outputs": [],
   "source": [
    "async Task<int> Task1()\n",
    "{\n",
    "    await Task.Delay(5000);\n",
    "    Console.WriteLine(\"Finished Task1\");\n",
    "    return 1000;\n",
    "}"
   ]
  },
  {
   "cell_type": "code",
   "execution_count": null,
   "metadata": {
    "dotnet_interactive": {
     "language": "csharp"
    }
   },
   "outputs": [],
   "source": [
    "async Task Task2(int value)\n",
    "{\n",
    "    await Task.Delay(value);\n",
    "    Console.WriteLine(\"Finished Task2\");\n",
    "}"
   ]
  },
  {
   "cell_type": "code",
   "execution_count": null,
   "metadata": {
    "dotnet_interactive": {
     "language": "csharp"
    }
   },
   "outputs": [],
   "source": [
    "async Task MainAsync()\n",
    "{\n",
    "    var task1 = await Task1();\n",
    "    await Task2(task1);\n",
    "\n",
    "    Console.WriteLine(\"Finished main method\");\n",
    "}"
   ]
  },
  {
   "cell_type": "code",
   "execution_count": null,
   "metadata": {
    "dotnet_interactive": {
     "language": "csharp"
    }
   },
   "outputs": [
    {
     "name": "stdout",
     "output_type": "stream",
     "text": [
      "Finished Task1\n",
      "Finished Task2\n",
      "Finished main method\n"
     ]
    }
   ],
   "source": [
    "await MainAsync();"
   ]
  }
 ],
 "metadata": {
  "kernelspec": {
   "display_name": ".NET (C#)",
   "language": "C#",
   "name": ".net-csharp"
  },
  "language_info": {
   "name": "C#"
  }
 },
 "nbformat": 4,
 "nbformat_minor": 2
}
