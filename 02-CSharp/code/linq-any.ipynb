{
 "cells": [
  {
   "cell_type": "markdown",
   "metadata": {},
   "source": [
    "## All"
   ]
  },
  {
   "cell_type": "code",
   "execution_count": null,
   "metadata": {
    "dotnet_interactive": {
     "language": "csharp"
    }
   },
   "outputs": [],
   "source": [
    "public class Student{ \n",
    "    public int StudentID { get; set; }\n",
    "    public string StudentName { get; set; }\n",
    "    public int Age { get; set; }\n",
    "}"
   ]
  },
  {
   "cell_type": "code",
   "execution_count": null,
   "metadata": {
    "dotnet_interactive": {
     "language": "csharp"
    }
   },
   "outputs": [],
   "source": [
    "IList<Student> studentList = new List<Student>() { \n",
    "  new Student() { StudentID = 1, StudentName = \"John\", Age = 18 } ,\n",
    "  new Student() { StudentID = 2, StudentName = \"Steve\",  Age = 15 } ,\n",
    "  new Student() { StudentID = 3, StudentName = \"Bill\",  Age = 25 } ,\n",
    "  new Student() { StudentID = 4, StudentName = \"Ram\" , Age = 20 } ,\n",
    "  new Student() { StudentID = 5, StudentName = \"Ron\" , Age = 19 } \n",
    "};\n"
   ]
  },
  {
   "cell_type": "code",
   "execution_count": null,
   "metadata": {
    "dotnet_interactive": {
     "language": "csharp"
    }
   },
   "outputs": [
    {
     "data": {
      "text/html": [
       "<div class=\"dni-plaintext\">False</div>"
      ]
     },
     "metadata": {},
     "output_type": "display_data"
    }
   ],
   "source": [
    "var areAllStudentsTeenAger = studentList.All(s => s.Age > 12 && s.Age < 20);\n",
    "areAllStudentsTeenAger"
   ]
  },
  {
   "cell_type": "markdown",
   "metadata": {},
   "source": [
    "## Any"
   ]
  },
  {
   "cell_type": "code",
   "execution_count": null,
   "metadata": {
    "dotnet_interactive": {
     "language": "csharp"
    }
   },
   "outputs": [
    {
     "data": {
      "text/html": [
       "<div class=\"dni-plaintext\">True</div>"
      ]
     },
     "metadata": {},
     "output_type": "display_data"
    }
   ],
   "source": [
    "var isAnyStudentTeenAger = studentList.Any(s => s.Age > 12 && s.Age < 20);\n",
    "isAnyStudentTeenAger"
   ]
  },
  {
   "cell_type": "markdown",
   "metadata": {},
   "source": [
    "## Contains"
   ]
  },
  {
   "cell_type": "code",
   "execution_count": null,
   "metadata": {
    "dotnet_interactive": {
     "language": "csharp"
    }
   },
   "outputs": [
    {
     "data": {
      "text/html": [
       "<div class=\"dni-plaintext\">False</div>"
      ]
     },
     "metadata": {},
     "output_type": "display_data"
    }
   ],
   "source": [
    "var intList = new List<int>() { 1, 2, 3, 4, 5 };\n",
    "bool result = intList.Contains(10);\n",
    "result"
   ]
  },
  {
   "cell_type": "code",
   "execution_count": null,
   "metadata": {
    "dotnet_interactive": {
     "language": "csharp"
    }
   },
   "outputs": [
    {
     "data": {
      "text/html": [
       "<div class=\"dni-plaintext\">False</div>"
      ]
     },
     "metadata": {},
     "output_type": "display_data"
    }
   ],
   "source": [
    "Student std = new Student(){ StudentID =3, StudentName = \"Bill\"};\n",
    "bool result = studentList.Contains(std); \n",
    "result"
   ]
  },
  {
   "cell_type": "code",
   "execution_count": null,
   "metadata": {
    "dotnet_interactive": {
     "language": "csharp"
    }
   },
   "outputs": [],
   "source": [
    "class StudentComparer : IEqualityComparer<Student>\n",
    "{\n",
    "        public bool Equals(Student x, Student y)\n",
    "        {\n",
    "            if (x.StudentID == y.StudentID && \n",
    "                        x.StudentName.ToLower() == y.StudentName.ToLower())\n",
    "                return true;\n",
    "\n",
    "            return false;\n",
    "        }\n",
    "\n",
    "        public int GetHashCode(Student obj)\n",
    "        {\n",
    "            return obj.GetHashCode();\n",
    "        }\n",
    "}\n"
   ]
  },
  {
   "cell_type": "code",
   "execution_count": null,
   "metadata": {
    "dotnet_interactive": {
     "language": "csharp"
    }
   },
   "outputs": [
    {
     "data": {
      "text/html": [
       "<div class=\"dni-plaintext\">True</div>"
      ]
     },
     "metadata": {},
     "output_type": "display_data"
    }
   ],
   "source": [
    "Student std = new Student(){ StudentID =3, StudentName = \"Bill\"};\n",
    "bool result = studentList.Contains(std, new StudentComparer());\n",
    "result"
   ]
  }
 ],
 "metadata": {
  "kernelspec": {
   "display_name": ".NET (C#)",
   "language": "C#",
   "name": ".net-csharp"
  },
  "language_info": {
   "name": "C#"
  }
 },
 "nbformat": 4,
 "nbformat_minor": 2
}
